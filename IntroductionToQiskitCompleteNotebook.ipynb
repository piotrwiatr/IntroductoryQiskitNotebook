{
 "cells": [
  {
   "cell_type": "markdown",
   "id": "db2e9706",
   "metadata": {},
   "source": [
    "# Introduction to Qiskit\n",
    "\n",
    "This Jupyter Notebook hopes to introduce basic Qiskit to supplement the lectures on quantum information that have been presented thus far.\n",
    "\n",
    "Before going through this notebook, it's necessary to install qiskit and all of its prerequisites\n",
    "\n",
    "- qiskit\n",
    "- qiskit[visualization]\n",
    "- qiskit-aer\n",
    "- numpy\n",
    "- matplotlib\n",
    "- pylatexenc\n",
    "\n",
    "Please run the next cell to import all of the necessary functions for this lesson:"
   ]
  },
  {
   "cell_type": "code",
   "execution_count": 54,
   "id": "f854605f",
   "metadata": {},
   "outputs": [],
   "source": [
    "from qiskit import QuantumCircuit, QuantumRegister, ClassicalRegister\n",
    "from qiskit_aer import AerSimulator\n",
    "from qiskit.visualization import plot_histogram\n",
    "from qiskit.result import marginal_distribution\n",
    "from qiskit.circuit.library import UGate\n",
    "from qiskit.primitives import Sampler\n",
    "from qiskit.quantum_info import Statevector, Operator\n",
    "from numpy import pi, random, array, matmul, sqrt\n",
    "from random import randint"
   ]
  },
  {
   "cell_type": "markdown",
   "id": "51183243",
   "metadata": {},
   "source": [
    "## Single Systems"
   ]
  },
  {
   "cell_type": "markdown",
   "id": "7f5f039f",
   "metadata": {},
   "source": [
    "### Vectors and Matrices in Python"
   ]
  },
  {
   "cell_type": "markdown",
   "id": "470bdc81",
   "metadata": {},
   "source": [
    "Since Qiskit uses the Python programming language, it is useful to discuss matrix and vector computations in Python. In Python, matrix and vector computations can be performed using the **array** class from the **NumPy** library.\n",
    "\n",
    "Here is an example of a code cell that defines two vectors **ket0** and **ket1** and displays their average."
   ]
  },
  {
   "cell_type": "code",
   "execution_count": 4,
   "id": "7a0afeae",
   "metadata": {},
   "outputs": [
    {
     "data": {
      "text/plain": [
       "array([0.5, 0.5])"
      ]
     },
     "metadata": {},
     "output_type": "display_data"
    }
   ],
   "source": [
    "ket0 = array([1, 0])\n",
    "ket1 = array([0, 1])\n",
    "\n",
    "display(ket0 / 2 + ket1 / 2)"
   ]
  },
  {
   "cell_type": "markdown",
   "id": "792f9c4f",
   "metadata": {},
   "source": [
    "We can also use **array** to create matrices that represent operations"
   ]
  },
  {
   "cell_type": "code",
   "execution_count": 5,
   "id": "0b13d4f5",
   "metadata": {},
   "outputs": [
    {
     "data": {
      "text/plain": [
       "array([[1. , 1. ],\n",
       "       [0.5, 0. ]])"
      ]
     },
     "execution_count": 5,
     "metadata": {},
     "output_type": "execute_result"
    }
   ],
   "source": [
    "M1 = array([[1, 1], [0, 0]])\n",
    "M2 = array([[1, 1], [1, 0]])\n",
    "\n",
    "M1 / 2 + M2 / 2"
   ]
  },
  {
   "cell_type": "markdown",
   "id": "3e823236",
   "metadata": {},
   "source": [
    "Matrix multiplication can be performed using the **matmul** function from **NumPy**:"
   ]
  },
  {
   "cell_type": "code",
   "execution_count": 6,
   "id": "248b4ee7",
   "metadata": {},
   "outputs": [
    {
     "data": {
      "text/plain": [
       "array([1, 0])"
      ]
     },
     "metadata": {},
     "output_type": "display_data"
    },
    {
     "data": {
      "text/plain": [
       "array([[2, 1],\n",
       "       [0, 0]])"
      ]
     },
     "metadata": {},
     "output_type": "display_data"
    },
    {
     "data": {
      "text/plain": [
       "array([[1, 1],\n",
       "       [1, 1]])"
      ]
     },
     "metadata": {},
     "output_type": "display_data"
    }
   ],
   "source": [
    "display(matmul(M1, ket1))\n",
    "display(matmul(M1, M2))\n",
    "display(matmul(M2, M1))"
   ]
  },
  {
   "cell_type": "markdown",
   "id": "661bee8a",
   "metadata": {},
   "source": [
    "### States, Measurements, and Operations\n",
    "\n",
    "Qiskit includes several classes that allow for states, measurements, and operations to be easily created and manipulated.\n",
    "\n",
    "**Defining and displaying state vectors**\n",
    "\n",
    "Qiskit's **Statevector** class provides functionality for defining and manipulating quantum state vectors (notice that complex numbers in Python take the form of a + b**j**):"
   ]
  },
  {
   "cell_type": "code",
   "execution_count": 8,
   "id": "cda9d72b",
   "metadata": {},
   "outputs": [],
   "source": [
    "u = Statevector([1 / sqrt(2), 1 / sqrt(2)])\n",
    "v = Statevector([(1 + 2.0j) / 3, -2 / 3])\n",
    "w = Statevector([1 / 3, 2 / 3])"
   ]
  },
  {
   "cell_type": "markdown",
   "id": "89abeb2f",
   "metadata": {},
   "source": [
    "The **Statevector** class provides a **draw** method for displaying state vectors, including **latex** and **text** options for different visualizations:"
   ]
  },
  {
   "cell_type": "code",
   "execution_count": 9,
   "id": "f2c62f4e",
   "metadata": {},
   "outputs": [
    {
     "data": {
      "text/latex": [
       "$$\\frac{\\sqrt{2}}{2} |0\\rangle+\\frac{\\sqrt{2}}{2} |1\\rangle$$"
      ],
      "text/plain": [
       "<IPython.core.display.Latex object>"
      ]
     },
     "metadata": {},
     "output_type": "display_data"
    },
    {
     "data": {
      "text/plain": [
       "[0.70710678+0.j,0.70710678+0.j]"
      ]
     },
     "metadata": {},
     "output_type": "display_data"
    }
   ],
   "source": [
    "display(u.draw(\"latex\"))\n",
    "display(u.draw('text'))"
   ]
  },
  {
   "cell_type": "markdown",
   "id": "92ccf53a",
   "metadata": {},
   "source": [
    "The **Statevector** class also includes the **is_valid** method, which checks to see if a given vector is a valid quantum state vecotr (i.e., that it has Euclidean norm equal to 1):"
   ]
  },
  {
   "cell_type": "code",
   "execution_count": 10,
   "id": "0c523cfa",
   "metadata": {},
   "outputs": [
    {
     "data": {
      "text/plain": [
       "True"
      ]
     },
     "metadata": {},
     "output_type": "display_data"
    },
    {
     "data": {
      "text/plain": [
       "False"
      ]
     },
     "metadata": {},
     "output_type": "display_data"
    }
   ],
   "source": [
    "display(u.is_valid())\n",
    "display(w.is_valid())"
   ]
  },
  {
   "cell_type": "markdown",
   "id": "f8080154",
   "metadata": {},
   "source": [
    "**Simulating measurements using Statevector**\n",
    "\n",
    "Next we will see one way that measurements of quantum states can be simulated in Qiskit, using the **measure** method from the **Statevector** class.\n",
    "\n",
    "First, we create a qubit state vector v and then display it."
   ]
  },
  {
   "cell_type": "code",
   "execution_count": 11,
   "id": "f82c304a",
   "metadata": {},
   "outputs": [
    {
     "data": {
      "text/latex": [
       "$$(\\frac{1}{3} + \\frac{2 i}{3}) |0\\rangle- \\frac{2}{3} |1\\rangle$$"
      ],
      "text/plain": [
       "<IPython.core.display.Latex object>"
      ]
     },
     "execution_count": 11,
     "metadata": {},
     "output_type": "execute_result"
    }
   ],
   "source": [
    "v = Statevector([(1 + 2.0j) / 3, -2 / 3])\n",
    "v.draw(\"latex\")"
   ]
  },
  {
   "cell_type": "markdown",
   "id": "9d9e70fc",
   "metadata": {},
   "source": [
    "Next, running the **measure** method simulates a standard basis measurement. It returns the result of that measurement, plus the new quantum state of our system after that measurement."
   ]
  },
  {
   "cell_type": "code",
   "execution_count": 12,
   "id": "9c1b6bb5",
   "metadata": {},
   "outputs": [
    {
     "data": {
      "text/plain": [
       "('0',\n",
       " Statevector([0.4472136+0.89442719j, 0.       +0.j        ],\n",
       "             dims=(2,)))"
      ]
     },
     "execution_count": 12,
     "metadata": {},
     "output_type": "execute_result"
    }
   ],
   "source": [
    "v.measure()"
   ]
  },
  {
   "cell_type": "markdown",
   "id": "e4af79c9",
   "metadata": {},
   "source": [
    "Measurement outcomes are probabilistic, so the same method can return different results. Try running the cell a few times to see this.\n",
    "\n",
    "As an aside, **Statevector** will throw an error if the **measure** method is applied to an invalid quantum state vector.\n",
    "\n",
    "**Statevector** also comes with a **sample_counts** method that allows for the simulation of any number of measurements on the system. For example, the following cell shows the outcome of measuring the vector **v** 1000 times. The cell also demonstrates the **plot_histogram** function for visualizing the results."
   ]
  },
  {
   "cell_type": "code",
   "execution_count": 13,
   "id": "37695683",
   "metadata": {},
   "outputs": [
    {
     "data": {
      "text/plain": [
       "{'0': 558, '1': 442}"
      ]
     },
     "metadata": {},
     "output_type": "display_data"
    },
    {
     "data": {
      "image/png": "[encoded data removed]",
      "text/plain": [
       "<Figure size 432x288 with 1 Axes>"
      ]
     },
     "execution_count": 13,
     "metadata": {},
     "output_type": "execute_result"
    }
   ],
   "source": [
    "statistics = v.sample_counts(1000)\n",
    "display(statistics)\n",
    "plot_histogram(statistics)"
   ]
  },
  {
   "cell_type": "markdown",
   "id": "e7b24f36",
   "metadata": {},
   "source": [
    "**Performing operations with Operator and Statevector**\n",
    "\n",
    "Unitary operations can be defined and performed on state vectors in Qiskit using the **Operator** class, as in the example that follows:"
   ]
  },
  {
   "cell_type": "code",
   "execution_count": 14,
   "id": "68e76e2d",
   "metadata": {},
   "outputs": [
    {
     "data": {
      "text/plain": [
       "[ 0.85355339+0.35355339j,-0.35355339+0.14644661j]"
      ]
     },
     "execution_count": 14,
     "metadata": {},
     "output_type": "execute_result"
    }
   ],
   "source": [
    "X = Operator([[0, 1], [1, 0]])\n",
    "Y = Operator([[0, -1.0j], [1.0j, 0]])\n",
    "Z = Operator([[1, 0], [0, -1]])\n",
    "H = Operator([[1 / sqrt(2), 1 / sqrt(2)], [1 / sqrt(2), -1 / sqrt(2)]])\n",
    "S = Operator([[1, 0], [0, 1.0j]])\n",
    "T = Operator([[1, 0], [0, (1 + 1.0j) / sqrt(2)]])\n",
    "\n",
    "v = Statevector([1, 0])\n",
    "\n",
    "v = v.evolve(H)\n",
    "v = v.evolve(T)\n",
    "v = v.evolve(H)\n",
    "v = v.evolve(T)\n",
    "v = v.evolve(Z)\n",
    "\n",
    "v.draw(\"text\")"
   ]
  },
  {
   "cell_type": "markdown",
   "id": "86707568",
   "metadata": {},
   "source": [
    "**Looking ahead toward quantum circuits**\n",
    "\n",
    "We won't talk about quantum circuits until later this lesson, but we can experiment with circuits that have only one qubit that consists of numerous unitary operations:"
   ]
  },
  {
   "cell_type": "code",
   "execution_count": 15,
   "id": "7dfb1314",
   "metadata": {},
   "outputs": [
    {
     "data": {
      "text/html": [
       "<pre style=\"word-wrap: normal;white-space: pre;background: #fff0;line-height: 1.1;font-family: &quot;Courier New&quot;,Courier,monospace\">   ┌───┐┌───┐┌───┐┌───┐┌───┐\n",
       "q: ┤ H ├┤ T ├┤ H ├┤ T ├┤ Z ├\n",
       "   └───┘└───┘└───┘└───┘└───┘</pre>"
      ],
      "text/plain": [
       "   ┌───┐┌───┐┌───┐┌───┐┌───┐\n",
       "q: ┤ H ├┤ T ├┤ H ├┤ T ├┤ Z ├\n",
       "   └───┘└───┘└───┘└───┘└───┘"
      ]
     },
     "execution_count": 15,
     "metadata": {},
     "output_type": "execute_result"
    }
   ],
   "source": [
    "circuit = QuantumCircuit(1)\n",
    "\n",
    "circuit.h(0)\n",
    "circuit.t(0)\n",
    "circuit.h(0)\n",
    "circuit.t(0)\n",
    "circuit.z(0)\n",
    "\n",
    "circuit.draw()"
   ]
  },
  {
   "cell_type": "markdown",
   "id": "07138731",
   "metadata": {},
   "source": [
    "The operations are applied sequentially, starting on the left and ending on right in the figure. Let us first initialize a starting quantum state vector and then evolve that state according to the sequence of operations."
   ]
  },
  {
   "cell_type": "code",
   "execution_count": 16,
   "id": "e8428d30",
   "metadata": {},
   "outputs": [
    {
     "data": {
      "text/plain": [
       "[ 0.85355339+0.35355339j,-0.35355339+0.14644661j]"
      ]
     },
     "execution_count": 16,
     "metadata": {},
     "output_type": "execute_result"
    }
   ],
   "source": [
    "ket0 = Statevector([1, 0])\n",
    "v = ket0.evolve(circuit)\n",
    "v.draw(\"text\")"
   ]
  },
  {
   "cell_type": "markdown",
   "id": "7d5ed026",
   "metadata": {},
   "source": [
    "Finally, let's simulate the result of running this experiment 4000 times:"
   ]
  },
  {
   "cell_type": "code",
   "execution_count": 17,
   "id": "4e5322e6",
   "metadata": {},
   "outputs": [
    {
     "data": {
      "image/png": "[encoded data removed]",
      "text/plain": [
       "<Figure size 432x288 with 1 Axes>"
      ]
     },
     "execution_count": 17,
     "metadata": {},
     "output_type": "execute_result"
    }
   ],
   "source": [
    "statistics = v.sample_counts(4000)\n",
    "plot_histogram(statistics)"
   ]
  },
  {
   "cell_type": "markdown",
   "id": "42cbc1f3",
   "metadata": {},
   "source": [
    "## Multiple Systems"
   ]
  },
  {
   "cell_type": "markdown",
   "id": "ec781aa6",
   "metadata": {},
   "source": [
    "### Tensor Products\n",
    "\n",
    "The **Statevector** class has a **tensor** method which returns the tensor product of itself and another **Statevector**.\n",
    "\n",
    "For example, below we create two state vectors representing ket 0 and ket 1, and use the **tensor** method to create a new vector (ket 0 tensor ket 1):"
   ]
  },
  {
   "cell_type": "code",
   "execution_count": 18,
   "id": "aef4b9d0",
   "metadata": {},
   "outputs": [
    {
     "data": {
      "text/latex": [
       "$$ |01\\rangle$$"
      ],
      "text/plain": [
       "<IPython.core.display.Latex object>"
      ]
     },
     "execution_count": 18,
     "metadata": {},
     "output_type": "execute_result"
    }
   ],
   "source": [
    "zero, one = Statevector.from_label(\"0\"), Statevector.from_label(\"1\")\n",
    "zero.tensor(one).draw(\"latex\")"
   ]
  },
  {
   "cell_type": "markdown",
   "id": "41edc96c",
   "metadata": {},
   "source": [
    "In another example below, we create state vectors representing the plus and i states, and combine them to create a enw state vector. We'll assign this new vector to the variable **psi**:"
   ]
  },
  {
   "cell_type": "code",
   "execution_count": 19,
   "id": "3c394cd3",
   "metadata": {},
   "outputs": [
    {
     "data": {
      "text/latex": [
       "$$\\frac{1}{2} |00\\rangle+\\frac{i}{2} |01\\rangle+\\frac{1}{2} |10\\rangle+\\frac{i}{2} |11\\rangle$$"
      ],
      "text/plain": [
       "<IPython.core.display.Latex object>"
      ]
     },
     "execution_count": 19,
     "metadata": {},
     "output_type": "execute_result"
    }
   ],
   "source": [
    "plus = Statevector.from_label(\"+\")\n",
    "i_state = Statevector([1 / sqrt(2), 1j / sqrt(2)])\n",
    "psi = plus.tensor(i_state)\n",
    "\n",
    "psi.draw(\"latex\")"
   ]
  },
  {
   "cell_type": "markdown",
   "id": "aed77fa3",
   "metadata": {},
   "source": [
    "The **Operator** class also has a **tensor** method. In the example below, we create the **X** and **I** gates and display their tensor product."
   ]
  },
  {
   "cell_type": "code",
   "execution_count": 20,
   "id": "b034838b",
   "metadata": {},
   "outputs": [
    {
     "name": "stdout",
     "output_type": "stream",
     "text": [
      "Operator([[0.+0.j, 0.+0.j, 1.+0.j, 0.+0.j],\n",
      "          [0.+0.j, 0.+0.j, 0.+0.j, 1.+0.j],\n",
      "          [1.+0.j, 0.+0.j, 0.+0.j, 0.+0.j],\n",
      "          [0.+0.j, 1.+0.j, 0.+0.j, 0.+0.j]],\n",
      "         input_dims=(2, 2), output_dims=(2, 2))\n"
     ]
    }
   ],
   "source": [
    "X = Operator([[0, 1], [1, 0]])\n",
    "I = Operator([[1, 0], [0, 1]])\n",
    "\n",
    "X.tensor(I)"
   ]
  },
  {
   "cell_type": "markdown",
   "id": "651cca47",
   "metadata": {},
   "source": [
    "We can then treat these compound states and operations as we did single systems in the previous lesson (the **^** opreator tensors matrices together)."
   ]
  },
  {
   "cell_type": "code",
   "execution_count": 21,
   "id": "5a8df493",
   "metadata": {},
   "outputs": [
    {
     "data": {
      "text/latex": [
       "$$\\frac{i}{2} |00\\rangle+\\frac{1}{2} |01\\rangle+\\frac{i}{2} |10\\rangle+\\frac{1}{2} |11\\rangle$$"
      ],
      "text/plain": [
       "<IPython.core.display.Latex object>"
      ]
     },
     "execution_count": 21,
     "metadata": {},
     "output_type": "execute_result"
    }
   ],
   "source": [
    "psi.evolve(I ^ X).draw(\"latex\")"
   ]
  },
  {
   "cell_type": "markdown",
   "id": "1cfa8495",
   "metadata": {},
   "source": [
    "Below, we create a **CX** operator and apply it to **psi**:"
   ]
  },
  {
   "cell_type": "code",
   "execution_count": 22,
   "id": "318a9aea",
   "metadata": {},
   "outputs": [
    {
     "data": {
      "text/latex": [
       "$$\\frac{1}{2} |00\\rangle+\\frac{i}{2} |01\\rangle+\\frac{i}{2} |10\\rangle+\\frac{1}{2} |11\\rangle$$"
      ],
      "text/plain": [
       "<IPython.core.display.Latex object>"
      ]
     },
     "execution_count": 22,
     "metadata": {},
     "output_type": "execute_result"
    }
   ],
   "source": [
    "CX = Operator(\n",
    "    [\n",
    "        [1, 0, 0, 0],\n",
    "        [0, 1, 0, 0],\n",
    "        [0, 0, 0, 1],\n",
    "        [0, 0, 1, 0],\n",
    "    ]\n",
    ")\n",
    "\n",
    "psi.evolve(CX).draw(\"latex\")"
   ]
  },
  {
   "cell_type": "markdown",
   "id": "59744cf2",
   "metadata": {},
   "source": [
    "### Partial Measurements\n",
    "\n",
    "The **measure** method returns two items: the simulated measurement result, and the new Statevector given this measurement.\n",
    "\n",
    "By default, **measure** measures all qubits in the state vector, but we can provide a list of integers to only measure the qubits at those indices. To demonstrate, the cell creates a 3-qubit system.\n",
    "\n",
    "(Note that Qiskit is primarily designed for use with qubit-based quantum computers. As such, Statevector will try to interpret any vector with 2^n elements as a system of n qubits.)"
   ]
  },
  {
   "cell_type": "code",
   "execution_count": 29,
   "id": "11845f62",
   "metadata": {},
   "outputs": [
    {
     "data": {
      "text/latex": [
       "$$\\frac{\\sqrt{3}}{3} |001\\rangle+\\frac{\\sqrt{3}}{3} |010\\rangle+\\frac{\\sqrt{3}}{3} |100\\rangle$$"
      ],
      "text/plain": [
       "<IPython.core.display.Latex object>"
      ]
     },
     "execution_count": 29,
     "metadata": {},
     "output_type": "execute_result"
    }
   ],
   "source": [
    "W = Statevector([0, 1, 1, 0, 1, 0, 0, 0] / sqrt(3))\n",
    "# W = Statevector([1, 0, 1, 0, 0, 0, 1, 0] / sqrt(3))\n",
    "W.draw(\"latex\")"
   ]
  },
  {
   "cell_type": "markdown",
   "id": "b8cd3d0a",
   "metadata": {},
   "source": [
    "The cell below simulates a measurement on the rightmost qubit (which has index 0). The other two qubits are not measured."
   ]
  },
  {
   "cell_type": "code",
   "execution_count": 24,
   "id": "38608b95",
   "metadata": {},
   "outputs": [
    {
     "name": "stdout",
     "output_type": "stream",
     "text": [
      "Measured: 1\n",
      "State after measurement:\n"
     ]
    },
    {
     "data": {
      "text/latex": [
       "$$ |001\\rangle$$"
      ],
      "text/plain": [
       "<IPython.core.display.Latex object>"
      ]
     },
     "execution_count": 24,
     "metadata": {},
     "output_type": "execute_result"
    }
   ],
   "source": [
    "result, new_sv = W.measure([0])  # measure qubit 0\n",
    "print(f\"Measured: {result}\\nState after measurement:\")\n",
    "new_sv.draw(\"latex\")"
   ]
  },
  {
   "cell_type": "code",
   "execution_count": 30,
   "id": "fb173c2a",
   "metadata": {},
   "outputs": [
    {
     "data": {
      "image/png": "[encoded data removed]",
      "text/plain": [
       "<Figure size 432x288 with 1 Axes>"
      ]
     },
     "execution_count": 30,
     "metadata": {},
     "output_type": "execute_result"
    }
   ],
   "source": [
    "statistics = W.sample_counts(4000, [0])\n",
    "plot_histogram(statistics)"
   ]
  },
  {
   "cell_type": "markdown",
   "id": "d75f7e63",
   "metadata": {},
   "source": [
    "## Quantum Circuits"
   ]
  },
  {
   "attachments": {
    "circuit.png": {
     "image/png": "[encoded data removed]"
    }
   },
   "cell_type": "markdown",
   "id": "decd8eac",
   "metadata": {},
   "source": [
    "![circuit.png](attachment:circuit.png)\n",
    "\n",
    "To begin, let's try recreating this circuit in qiskit. To start, we need to sequentially add gates from left to right."
   ]
  },
  {
   "cell_type": "code",
   "execution_count": 31,
   "id": "01880059",
   "metadata": {},
   "outputs": [
    {
     "data": {
      "text/html": [
       "<pre style=\"word-wrap: normal;white-space: pre;background: #fff0;line-height: 1.1;font-family: &quot;Courier New&quot;,Courier,monospace\">   ┌───┐┌───┐┌───┐┌───┐\n",
       "q: ┤ H ├┤ S ├┤ H ├┤ T ├\n",
       "   └───┘└───┘└───┘└───┘</pre>"
      ],
      "text/plain": [
       "   ┌───┐┌───┐┌───┐┌───┐\n",
       "q: ┤ H ├┤ S ├┤ H ├┤ T ├\n",
       "   └───┘└───┘└───┘└───┘"
      ]
     },
     "metadata": {},
     "output_type": "display_data"
    }
   ],
   "source": [
    "circuit = QuantumCircuit(1)\n",
    "\n",
    "circuit.h(0)\n",
    "circuit.s(0)\n",
    "circuit.h(0)\n",
    "circuit.t(0)\n",
    "\n",
    "display(circuit.draw())"
   ]
  },
  {
   "cell_type": "markdown",
   "id": "a961fad7",
   "metadata": {},
   "source": [
    "The default names for qubits in Qiskit are q0, q1, q2, etc., and when there is just a single qubit like in our example, the default name is q rather q0. If we wish to choose our own name we can do this using the **QuantumRegister** class like this:"
   ]
  },
  {
   "cell_type": "code",
   "execution_count": 32,
   "id": "73543f99",
   "metadata": {},
   "outputs": [
    {
     "data": {
      "text/html": [
       "<pre style=\"word-wrap: normal;white-space: pre;background: #fff0;line-height: 1.1;font-family: &quot;Courier New&quot;,Courier,monospace\">   ┌───┐┌───┐┌───┐┌───┐\n",
       "X: ┤ H ├┤ S ├┤ H ├┤ T ├\n",
       "   └───┘└───┘└───┘└───┘</pre>"
      ],
      "text/plain": [
       "   ┌───┐┌───┐┌───┐┌───┐\n",
       "X: ┤ H ├┤ S ├┤ H ├┤ T ├\n",
       "   └───┘└───┘└───┘└───┘"
      ]
     },
     "metadata": {},
     "output_type": "display_data"
    }
   ],
   "source": [
    "X = QuantumRegister(1, \"X\")\n",
    "circuit = QuantumCircuit(X)\n",
    "\n",
    "circuit.h(X)\n",
    "circuit.s(X)\n",
    "circuit.h(X)\n",
    "circuit.t(X)\n",
    "\n",
    "display(circuit.draw())"
   ]
  },
  {
   "attachments": {
    "circuit2.png": {
     "image/png": "[encoded data removed]"
    }
   },
   "cell_type": "markdown",
   "id": "18be379c",
   "metadata": {},
   "source": [
    "![circuit2.png](attachment:circuit2.png)\n",
    "\n",
    "Let's try recreating this circuit using Qiskit:"
   ]
  },
  {
   "cell_type": "code",
   "execution_count": 33,
   "id": "b0f7c6e2",
   "metadata": {},
   "outputs": [
    {
     "data": {
      "text/html": [
       "<pre style=\"word-wrap: normal;white-space: pre;background: #fff0;line-height: 1.1;font-family: &quot;Courier New&quot;,Courier,monospace\">     ┌───┐     ┌─┐   \n",
       "  Y: ┤ H ├──■──┤M├───\n",
       "     └───┘┌─┴─┐└╥┘┌─┐\n",
       "  X: ─────┤ X ├─╫─┤M├\n",
       "          └───┘ ║ └╥┘\n",
       "B: 1/═══════════╩══╬═\n",
       "                0  ║ \n",
       "A: 1/══════════════╩═\n",
       "                   0 </pre>"
      ],
      "text/plain": [
       "     ┌───┐     ┌─┐   \n",
       "  Y: ┤ H ├──■──┤M├───\n",
       "     └───┘┌─┴─┐└╥┘┌─┐\n",
       "  X: ─────┤ X ├─╫─┤M├\n",
       "          └───┘ ║ └╥┘\n",
       "B: 1/═══════════╩══╬═\n",
       "                0  ║ \n",
       "A: 1/══════════════╩═\n",
       "                   0 "
      ]
     },
     "metadata": {},
     "output_type": "display_data"
    }
   ],
   "source": [
    "X = QuantumRegister(1, \"X\")\n",
    "Y = QuantumRegister(1, \"Y\")\n",
    "A = ClassicalRegister(1, \"A\")\n",
    "B = ClassicalRegister(1, \"B\")\n",
    "\n",
    "circuit = QuantumCircuit(Y, X, B, A)\n",
    "circuit.h(Y)\n",
    "circuit.cx(Y, X)\n",
    "circuit.measure(Y, B)\n",
    "circuit.measure(X, A)\n",
    "\n",
    "display(circuit.draw())"
   ]
  },
  {
   "cell_type": "markdown",
   "id": "b8e4b6d8",
   "metadata": {},
   "source": [
    "The circuit can be simulated using the **Sampler** primitive."
   ]
  },
  {
   "cell_type": "code",
   "execution_count": 34,
   "id": "6310a662",
   "metadata": {},
   "outputs": [
    {
     "data": {
      "image/png": "[encoded data removed]",
      "text/plain": [
       "<Figure size 432x288 with 1 Axes>"
      ]
     },
     "metadata": {},
     "output_type": "display_data"
    }
   ],
   "source": [
    "results = Sampler().run(circuit).result()\n",
    "statistics = results.quasi_dists[0].binary_probabilities()\n",
    "display(plot_histogram(statistics))"
   ]
  },
  {
   "cell_type": "markdown",
   "id": "a1f0703c",
   "metadata": {},
   "source": [
    "## Entanglement in Action"
   ]
  },
  {
   "cell_type": "markdown",
   "id": "17c6e736",
   "metadata": {},
   "source": [
    "### Quantum Teleportation"
   ]
  },
  {
   "attachments": {
    "circuit3.png": {
     "image/png": "[encoded data removed]"
    }
   },
   "cell_type": "markdown",
   "id": "d5585aa0",
   "metadata": {},
   "source": [
    "![circuit3.png](attachment:circuit3.png)\n",
    "\n",
    "Let's try implementing the teleportation protocol in Qiskit."
   ]
  },
  {
   "cell_type": "code",
   "execution_count": 35,
   "id": "74c5ea26",
   "metadata": {},
   "outputs": [
    {
     "data": {
      "text/html": [
       "<pre style=\"word-wrap: normal;white-space: pre;background: #fff0;line-height: 1.1;font-family: &quot;Courier New&quot;,Courier,monospace\">                ░      ┌───┐ ░    ┌─┐ ░                                     »\n",
       "  Q: ───────────░───■──┤ H ├─░────┤M├─░─────────────────────────────────────»\n",
       "     ┌───┐      ░ ┌─┴─┐└───┘ ░ ┌─┐└╥┘ ░                                     »\n",
       "  A: ┤ H ├──■───░─┤ X ├──────░─┤M├─╫──░─────────────────────────────────────»\n",
       "     └───┘┌─┴─┐ ░ └───┘      ░ └╥┘ ║  ░ ┌────── ┌───┐ ───────┐ ┌────── ┌───┐»\n",
       "  B: ─────┤ X ├─░────────────░──╫──╫──░─┤ If-0  ┤ X ├  End-0 ├─┤ If-0  ┤ Z ├»\n",
       "          └───┘ ░            ░  ║  ║  ░ └──╥─── └───┘ ───────┘ └──╥─── └───┘»\n",
       "                                ║  ║    ┌──╨──┐                   ║         »\n",
       "a: 1/═══════════════════════════╩══╬════╡ 0x1 ╞═══════════════════╬═════════»\n",
       "                                0  ║    └─────┘                ┌──╨──┐      »\n",
       "b: 1/══════════════════════════════╩═══════════════════════════╡ 0x1 ╞══════»\n",
       "                                   0                           └─────┘      »\n",
       "«               \n",
       "«  Q: ──────────\n",
       "«               \n",
       "«  A: ──────────\n",
       "«      ───────┐ \n",
       "«  B:   End-0 ├─\n",
       "«      ───────┘ \n",
       "«a: 1/══════════\n",
       "«               \n",
       "«b: 1/══════════\n",
       "«               </pre>"
      ],
      "text/plain": [
       "                ░      ┌───┐ ░    ┌─┐ ░                                     »\n",
       "  Q: ───────────░───■──┤ H ├─░────┤M├─░─────────────────────────────────────»\n",
       "     ┌───┐      ░ ┌─┴─┐└───┘ ░ ┌─┐└╥┘ ░                                     »\n",
       "  A: ┤ H ├──■───░─┤ X ├──────░─┤M├─╫──░─────────────────────────────────────»\n",
       "     └───┘┌─┴─┐ ░ └───┘      ░ └╥┘ ║  ░ ┌────── ┌───┐ ───────┐ ┌────── ┌───┐»\n",
       "  B: ─────┤ X ├─░────────────░──╫──╫──░─┤ If-0  ┤ X ├  End-0 ├─┤ If-0  ┤ Z ├»\n",
       "          └───┘ ░            ░  ║  ║  ░ └──╥─── └───┘ ───────┘ └──╥─── └───┘»\n",
       "                                ║  ║    ┌──╨──┐                   ║         »\n",
       "a: 1/═══════════════════════════╩══╬════╡ 0x1 ╞═══════════════════╬═════════»\n",
       "                                0  ║    └─────┘                ┌──╨──┐      »\n",
       "b: 1/══════════════════════════════╩═══════════════════════════╡ 0x1 ╞══════»\n",
       "                                   0                           └─────┘      »\n",
       "«               \n",
       "«  Q: ──────────\n",
       "«               \n",
       "«  A: ──────────\n",
       "«      ───────┐ \n",
       "«  B:   End-0 ├─\n",
       "«      ───────┘ \n",
       "«a: 1/══════════\n",
       "«               \n",
       "«b: 1/══════════\n",
       "«               "
      ]
     },
     "metadata": {},
     "output_type": "display_data"
    }
   ],
   "source": [
    "qubit = QuantumRegister(1, \"Q\")\n",
    "ebit0 = QuantumRegister(1, \"A\")\n",
    "ebit1 = QuantumRegister(1, \"B\")\n",
    "a = ClassicalRegister(1, \"a\")\n",
    "b = ClassicalRegister(1, \"b\")\n",
    "\n",
    "protocol = QuantumCircuit(qubit, ebit0, ebit1, a, b)\n",
    "\n",
    "# Prepare ebit used for teleportation\n",
    "protocol.h(ebit0)\n",
    "protocol.cx(ebit0, ebit1)\n",
    "protocol.barrier()\n",
    "\n",
    "# Alice's operations\n",
    "protocol.cx(qubit, ebit0)\n",
    "protocol.h(qubit)\n",
    "protocol.barrier()\n",
    "\n",
    "# Alice measures and sends classical bits to Bob\n",
    "protocol.measure(ebit0, a)\n",
    "protocol.measure(qubit, b)\n",
    "protocol.barrier()\n",
    "\n",
    "# Bob uses the classical bits to conditionally apply gates\n",
    "with protocol.if_test((a, 1)):\n",
    "    protocol.x(ebit1)\n",
    "with protocol.if_test((b, 1)):\n",
    "    protocol.z(ebit1)\n",
    "\n",
    "display(protocol.draw())"
   ]
  },
  {
   "cell_type": "markdown",
   "id": "16253694",
   "metadata": {},
   "source": [
    "The **barrier** function creates a visual separation making the circuit diagram more readable, and it also prevents Qiskit from performing various simplifications and optimizations across barriers during compilation when circuits run on real hardware. The **if_test** function applies an opeartion conditionally depending on the classical bit or register.\n",
    "\n",
    "The circuit first initializes (A,B) to be in the phi plus state, followed by Alice's operations, then her measurements, and finally Bob's operations."
   ]
  },
  {
   "cell_type": "markdown",
   "id": "f9de2b3b",
   "metadata": {},
   "source": [
    "To test that the protocol works correctly, we'll apply a randomly generated single-qubit gate to the initialized ket 0 state of Q to obtain a random quanstum state vector to be teleported. By applying the inverse of that gate to B after the protocol is run, we can verify that the state was teleported by measuring to see that it has returned the ket 0 state.\n",
    "\n",
    "First, we'll randomly choose a unitary qubit gate:"
   ]
  },
  {
   "cell_type": "code",
   "execution_count": 36,
   "id": "5efc4cba",
   "metadata": {},
   "outputs": [
    {
     "data": {
      "text/plain": [
       "array([[-0.31897706+0.j        ,  0.84670236+0.42585061j],\n",
       "       [-0.77696291+0.54275433j, -0.31568697+0.04569574j]])"
      ]
     },
     "metadata": {},
     "output_type": "display_data"
    }
   ],
   "source": [
    "random_gate = UGate(\n",
    "    theta=random.random() * 2 * pi,\n",
    "    phi=random.random() * 2 * pi,\n",
    "    lam=random.random() * 2 * pi,\n",
    ")\n",
    "\n",
    "display(random_gate.to_matrix())"
   ]
  },
  {
   "attachments": {
    "eq.png": {
     "image/png": "[encoded data removed]"
    }
   },
   "cell_type": "markdown",
   "id": "28162bf5",
   "metadata": {},
   "source": [
    "The UGate function creates a unitary matrix using theta, phi, and lambda as follows:\n",
    "![eq.png](attachment:eq.png)"
   ]
  },
  {
   "cell_type": "markdown",
   "id": "e8eae13c",
   "metadata": {},
   "source": [
    "Now, we'll create a new testing circuit that first applies our random gate to Q, then runs the teleportation circuit, and finally applies the inverse of our random gate to the qubit B and measures. The outcome should be 0 with certainty."
   ]
  },
  {
   "cell_type": "code",
   "execution_count": 37,
   "id": "f209809d",
   "metadata": {},
   "outputs": [
    {
     "data": {
      "text/html": [
       "<pre style=\"word-wrap: normal;white-space: pre;background: #fff0;line-height: 1.1;font-family: &quot;Courier New&quot;,Courier,monospace\">          ┌─────────────────────────┐ ░            ░      ┌───┐ ░    ┌─┐ ░ »\n",
       "       Q: ┤ U(3.7909,2.5318,3.6076) ├─░────────────░───■──┤ H ├─░────┤M├─░─»\n",
       "          └─────────────────────────┘ ░ ┌───┐      ░ ┌─┴─┐└───┘ ░ ┌─┐└╥┘ ░ »\n",
       "       A: ────────────────────────────░─┤ H ├──■───░─┤ X ├──────░─┤M├─╫──░─»\n",
       "                                      ░ └───┘┌─┴─┐ ░ └───┘      ░ └╥┘ ║  ░ »\n",
       "       B: ────────────────────────────░──────┤ X ├─░────────────░──╫──╫──░─»\n",
       "                                      ░      └───┘ ░            ░  ║  ║  ░ »\n",
       "     a: 1/═════════════════════════════════════════════════════════╩══╬════»\n",
       "                                                                   0  ║    »\n",
       "     b: 1/════════════════════════════════════════════════════════════╩════»\n",
       "                                                                      0    »\n",
       "Result: 1/═════════════════════════════════════════════════════════════════»\n",
       "                                                                           »\n",
       "«                                                         ░ »\n",
       "«       Q: ───────────────────────────────────────────────░─»\n",
       "«                                                         ░ »\n",
       "«       A: ───────────────────────────────────────────────░─»\n",
       "«          ┌────── ┌───┐ ───────┐ ┌────── ┌───┐ ───────┐  ░ »\n",
       "«       B: ┤ If-0  ┤ X ├  End-0 ├─┤ If-0  ┤ Z ├  End-0 ├──░─»\n",
       "«          └──╥─── └───┘ ───────┘ └──╥─── └───┘ ───────┘  ░ »\n",
       "«          ┌──╨──┐                   ║                      »\n",
       "«     a: 1/╡ 0x1 ╞═══════════════════╬══════════════════════»\n",
       "«          └─────┘                ┌──╨──┐                   »\n",
       "«     b: 1/═══════════════════════╡ 0x1 ╞═══════════════════»\n",
       "«                                 └─────┘                   »\n",
       "«Result: 1/═════════════════════════════════════════════════»\n",
       "«                                                           »\n",
       "«                                           \n",
       "«       Q: ─────────────────────────────────\n",
       "«                                           \n",
       "«       A: ─────────────────────────────────\n",
       "«          ┌────────────────────────────┐┌─┐\n",
       "«       B: ┤ U(-3.7909,-3.6076,-2.5318) ├┤M├\n",
       "«          └────────────────────────────┘└╥┘\n",
       "«     a: 1/═══════════════════════════════╬═\n",
       "«                                         ║ \n",
       "«     b: 1/═══════════════════════════════╬═\n",
       "«                                         ║ \n",
       "«Result: 1/═══════════════════════════════╩═\n",
       "«                                         0 </pre>"
      ],
      "text/plain": [
       "          ┌─────────────────────────┐ ░            ░      ┌───┐ ░    ┌─┐ ░ »\n",
       "       Q: ┤ U(3.7909,2.5318,3.6076) ├─░────────────░───■──┤ H ├─░────┤M├─░─»\n",
       "          └─────────────────────────┘ ░ ┌───┐      ░ ┌─┴─┐└───┘ ░ ┌─┐└╥┘ ░ »\n",
       "       A: ────────────────────────────░─┤ H ├──■───░─┤ X ├──────░─┤M├─╫──░─»\n",
       "                                      ░ └───┘┌─┴─┐ ░ └───┘      ░ └╥┘ ║  ░ »\n",
       "       B: ────────────────────────────░──────┤ X ├─░────────────░──╫──╫──░─»\n",
       "                                      ░      └───┘ ░            ░  ║  ║  ░ »\n",
       "     a: 1/═════════════════════════════════════════════════════════╩══╬════»\n",
       "                                                                   0  ║    »\n",
       "     b: 1/════════════════════════════════════════════════════════════╩════»\n",
       "                                                                      0    »\n",
       "Result: 1/═════════════════════════════════════════════════════════════════»\n",
       "                                                                           »\n",
       "«                                                         ░ »\n",
       "«       Q: ───────────────────────────────────────────────░─»\n",
       "«                                                         ░ »\n",
       "«       A: ───────────────────────────────────────────────░─»\n",
       "«          ┌────── ┌───┐ ───────┐ ┌────── ┌───┐ ───────┐  ░ »\n",
       "«       B: ┤ If-0  ┤ X ├  End-0 ├─┤ If-0  ┤ Z ├  End-0 ├──░─»\n",
       "«          └──╥─── └───┘ ───────┘ └──╥─── └───┘ ───────┘  ░ »\n",
       "«          ┌──╨──┐                   ║                      »\n",
       "«     a: 1/╡ 0x1 ╞═══════════════════╬══════════════════════»\n",
       "«          └─────┘                ┌──╨──┐                   »\n",
       "«     b: 1/═══════════════════════╡ 0x1 ╞═══════════════════»\n",
       "«                                 └─────┘                   »\n",
       "«Result: 1/═════════════════════════════════════════════════»\n",
       "«                                                           »\n",
       "«                                           \n",
       "«       Q: ─────────────────────────────────\n",
       "«                                           \n",
       "«       A: ─────────────────────────────────\n",
       "«          ┌────────────────────────────┐┌─┐\n",
       "«       B: ┤ U(-3.7909,-3.6076,-2.5318) ├┤M├\n",
       "«          └────────────────────────────┘└╥┘\n",
       "«     a: 1/═══════════════════════════════╬═\n",
       "«                                         ║ \n",
       "«     b: 1/═══════════════════════════════╬═\n",
       "«                                         ║ \n",
       "«Result: 1/═══════════════════════════════╩═\n",
       "«                                         0 "
      ]
     },
     "metadata": {},
     "output_type": "display_data"
    }
   ],
   "source": [
    "# Create a new circuit including the same bits and qubits used in the\n",
    "# teleportation protocol.\n",
    "\n",
    "test = QuantumCircuit(qubit, ebit0, ebit1, a, b)\n",
    "\n",
    "# Start with the randomly selected gate on Q\n",
    "\n",
    "test.append(random_gate, qubit)\n",
    "test.barrier()\n",
    "\n",
    "# Append the entire teleportation protocol from above.\n",
    "\n",
    "test = test.compose(protocol)\n",
    "test.barrier()\n",
    "\n",
    "# Finally, apply the inverse of the random unitary to B and measure.\n",
    "\n",
    "test.append(random_gate.inverse(), ebit1)\n",
    "\n",
    "result = ClassicalRegister(1, \"Result\")\n",
    "test.add_register(result)\n",
    "test.measure(ebit1, result)\n",
    "\n",
    "display(test.draw())"
   ]
  },
  {
   "cell_type": "markdown",
   "id": "ebdba8ea",
   "metadata": {},
   "source": [
    "Finally let's run the Aer simulator on this circuit and plot a histogram of the outputs. We'll see the statistics for all three classical bits: the bottom/leftmost bit should always be 0,indicating that the qubit Q was successfully teleported into B, while the other two bits should be roughly uniform."
   ]
  },
  {
   "cell_type": "code",
   "execution_count": 38,
   "id": "8dbef472",
   "metadata": {},
   "outputs": [
    {
     "data": {
      "image/png": "[encoded data removed]",
      "text/plain": [
       "<Figure size 432x288 with 1 Axes>"
      ]
     },
     "metadata": {},
     "output_type": "display_data"
    }
   ],
   "source": [
    "result = AerSimulator().run(test).result()\n",
    "statistics = result.get_counts()\n",
    "display(plot_histogram(statistics))"
   ]
  },
  {
   "cell_type": "markdown",
   "id": "e1bcf66f",
   "metadata": {},
   "source": [
    "We can also filter the statistics to focus just on the test result qubit if we wish, like this:"
   ]
  },
  {
   "cell_type": "code",
   "execution_count": 39,
   "id": "e20bb726",
   "metadata": {},
   "outputs": [
    {
     "data": {
      "image/png": "[encoded data removed]",
      "text/plain": [
       "<Figure size 432x288 with 1 Axes>"
      ]
     },
     "metadata": {},
     "output_type": "display_data"
    }
   ],
   "source": [
    "filtered_statistics = marginal_distribution(statistics, [2])\n",
    "display(plot_histogram(filtered_statistics))"
   ]
  },
  {
   "attachments": {
    "circuit4.png": {
     "image/png": "[encoded data removed]"
    }
   },
   "cell_type": "markdown",
   "id": "73686102",
   "metadata": {},
   "source": [
    "### Superdense Coding\n",
    "![circuit4.png](attachment:circuit4.png)\n",
    "\n",
    "To start implementing the Superdense coding protocol, let's first specify the bits to be transmitted."
   ]
  },
  {
   "cell_type": "code",
   "execution_count": 40,
   "id": "fbc9bc33",
   "metadata": {},
   "outputs": [],
   "source": [
    "c = \"1\"\n",
    "d = \"0\""
   ]
  },
  {
   "cell_type": "markdown",
   "id": "5cbb7221",
   "metadata": {},
   "source": [
    "Now, we'll build the circuit accordingly. Here we'll just allow Qiskit to use the default names for the qubits: q0 for the top qubit and q1 for the bottom one."
   ]
  },
  {
   "cell_type": "code",
   "execution_count": 41,
   "id": "0d23dc5f",
   "metadata": {},
   "outputs": [
    {
     "data": {
      "text/html": [
       "<pre style=\"word-wrap: normal;white-space: pre;background: #fff0;line-height: 1.1;font-family: &quot;Courier New&quot;,Courier,monospace\">        ┌───┐      ░ ┌───┐ ░      ┌───┐ ░ ┌─┐   \n",
       "   q_0: ┤ H ├──■───░─┤ X ├─░───■──┤ H ├─░─┤M├───\n",
       "        └───┘┌─┴─┐ ░ └───┘ ░ ┌─┴─┐└───┘ ░ └╥┘┌─┐\n",
       "   q_1: ─────┤ X ├─░───────░─┤ X ├──────░──╫─┤M├\n",
       "             └───┘ ░       ░ └───┘      ░  ║ └╥┘\n",
       "meas: 2/═══════════════════════════════════╩══╩═\n",
       "                                           0  1 </pre>"
      ],
      "text/plain": [
       "        ┌───┐      ░ ┌───┐ ░      ┌───┐ ░ ┌─┐   \n",
       "   q_0: ┤ H ├──■───░─┤ X ├─░───■──┤ H ├─░─┤M├───\n",
       "        └───┘┌─┴─┐ ░ └───┘ ░ ┌─┴─┐└───┘ ░ └╥┘┌─┐\n",
       "   q_1: ─────┤ X ├─░───────░─┤ X ├──────░──╫─┤M├\n",
       "             └───┘ ░       ░ └───┘      ░  ║ └╥┘\n",
       "meas: 2/═══════════════════════════════════╩══╩═\n",
       "                                           0  1 "
      ]
     },
     "metadata": {},
     "output_type": "display_data"
    }
   ],
   "source": [
    "protocol = QuantumCircuit(2)\n",
    "\n",
    "# Prepare ebit used for superdense coding\n",
    "protocol.h(0)\n",
    "protocol.cx(0, 1)\n",
    "protocol.barrier()\n",
    "\n",
    "# Alice's operations\n",
    "if d == \"1\":\n",
    "    protocol.z(0)\n",
    "if c == \"1\":\n",
    "    protocol.x(0)\n",
    "protocol.barrier()\n",
    "\n",
    "# Bob's actions\n",
    "protocol.cx(0, 1)\n",
    "protocol.h(0)\n",
    "protocol.measure_all()\n",
    "\n",
    "display(protocol.draw())"
   ]
  },
  {
   "cell_type": "markdown",
   "id": "046ebee2",
   "metadata": {},
   "source": [
    "The **measure_all** function measures all of the qubits and puts the results into a single classical register (that has 2 classical bits).\n",
    "\n",
    "Running the Aer simualator produces the expected output."
   ]
  },
  {
   "cell_type": "code",
   "execution_count": 42,
   "id": "0002660c",
   "metadata": {},
   "outputs": [
    {
     "name": "stdout",
     "output_type": "stream",
     "text": [
      "Measured 10 with frequency 0.9999999999999996\n"
     ]
    },
    {
     "data": {
      "image/png": "[encoded data removed]",
      "text/plain": [
       "<Figure size 432x288 with 1 Axes>"
      ]
     },
     "metadata": {},
     "output_type": "display_data"
    }
   ],
   "source": [
    "result = Sampler().run(protocol).result()\n",
    "statistics = result.quasi_dists[0].binary_probabilities()\n",
    "\n",
    "for outcome, frequency in statistics.items():\n",
    "    print(f\"Measured {outcome} with frequency {frequency}\")\n",
    "\n",
    "display(plot_histogram(statistics))"
   ]
  },
  {
   "cell_type": "markdown",
   "id": "614a6cf3",
   "metadata": {},
   "source": [
    "Just for fun, we can use an additional qubit as a random bit generator to randomly chooes c and d, then run the superdense coding protocol to see that these bits are transmitted correctly."
   ]
  },
  {
   "cell_type": "code",
   "execution_count": 47,
   "id": "bbf4c2c0",
   "metadata": {},
   "outputs": [
    {
     "data": {
      "text/plain": [
       "CircuitInstruction(operation=Instruction(name='barrier', num_qubits=3, num_clbits=0, params=[]), qubits=(Qubit(QuantumRegister(1, 'randomizer'), 0), Qubit(QuantumRegister(1, 'A'), 0), Qubit(QuantumRegister(1, 'B'), 0)), clbits=())"
      ]
     },
     "execution_count": 47,
     "metadata": {},
     "output_type": "execute_result"
    }
   ],
   "source": [
    "rbg = QuantumRegister(1, \"randomizer\")\n",
    "ebit0 = QuantumRegister(1, \"A\")\n",
    "ebit1 = QuantumRegister(1, \"B\")\n",
    "\n",
    "Alice_c = ClassicalRegister(1, \"Alice c\")\n",
    "Alice_d = ClassicalRegister(1, \"Alice d\")\n",
    "\n",
    "test = QuantumCircuit(rbg, ebit0, ebit1, Alice_d, Alice_c)\n",
    "\n",
    "# Use the 'randomizer' qubit twice to generate Alice's bits c and d.\n",
    "test.h(rbg)\n",
    "test.measure(rbg, Alice_c)\n",
    "test.h(rbg)\n",
    "test.measure(rbg, Alice_d)\n",
    "test.barrier()\n",
    "\n"
   ]
  },
  {
   "cell_type": "code",
   "execution_count": 48,
   "id": "b70eeef2",
   "metadata": {},
   "outputs": [
    {
     "data": {
      "text/html": [
       "<pre style=\"word-wrap: normal;white-space: pre;background: #fff0;line-height: 1.1;font-family: &quot;Courier New&quot;,Courier,monospace\">            ┌───┐┌─┐┌───┐┌─┐ ░            ░                                »\n",
       "randomizer: ┤ H ├┤M├┤ H ├┤M├─░────────────░────────────────────────────────»\n",
       "            └───┘└╥┘└───┘└╥┘ ░ ┌───┐      ░ ┌────── ┌───┐ ───────┐ ┌────── »\n",
       "         A: ──────╫───────╫──░─┤ H ├──■───░─┤ If-0  ┤ Z ├  End-0 ├─┤ If-0  »\n",
       "                  ║       ║  ░ └───┘┌─┴─┐ ░ └──╥─── └───┘ ───────┘ └──╥─── »\n",
       "         B: ──────╫───────╫──░──────┤ X ├─░────╫──────────────────────╫────»\n",
       "                  ║       ║  ░      └───┘ ░ ┌──╨──┐                   ║    »\n",
       " Alice d: 1/══════╬═══════╩═════════════════╡ 0x1 ╞═══════════════════╬════»\n",
       "                  ║       0                 └─────┘                ┌──╨──┐ »\n",
       " Alice c: 1/══════╩════════════════════════════════════════════════╡ 0x1 ╞═»\n",
       "                  0                                                └─────┘ »\n",
       "   Bob d: 1/═══════════════════════════════════════════════════════════════»\n",
       "                                                                           »\n",
       "   Bob c: 1/═══════════════════════════════════════════════════════════════»\n",
       "                                                                           »\n",
       "«                            ░            ░       \n",
       "«randomizer: ────────────────░────────────░───────\n",
       "«            ┌───┐ ───────┐  ░      ┌───┐ ░ ┌─┐   \n",
       "«         A: ┤ X ├  End-0 ├──░───■──┤ H ├─░─┤M├───\n",
       "«            └───┘ ───────┘  ░ ┌─┴─┐└───┘ ░ └╥┘┌─┐\n",
       "«         B: ────────────────░─┤ X ├──────░──╫─┤M├\n",
       "«                            ░ └───┘      ░  ║ └╥┘\n",
       "« Alice d: 1/════════════════════════════════╬══╬═\n",
       "«                                            ║  ║ \n",
       "« Alice c: 1/════════════════════════════════╬══╬═\n",
       "«                                            ║  ║ \n",
       "«   Bob d: 1/════════════════════════════════╩══╬═\n",
       "«                                            0  ║ \n",
       "«   Bob c: 1/═══════════════════════════════════╩═\n",
       "«                                               0 </pre>"
      ],
      "text/plain": [
       "            ┌───┐┌─┐┌───┐┌─┐ ░            ░                                »\n",
       "randomizer: ┤ H ├┤M├┤ H ├┤M├─░────────────░────────────────────────────────»\n",
       "            └───┘└╥┘└───┘└╥┘ ░ ┌───┐      ░ ┌────── ┌───┐ ───────┐ ┌────── »\n",
       "         A: ──────╫───────╫──░─┤ H ├──■───░─┤ If-0  ┤ Z ├  End-0 ├─┤ If-0  »\n",
       "                  ║       ║  ░ └───┘┌─┴─┐ ░ └──╥─── └───┘ ───────┘ └──╥─── »\n",
       "         B: ──────╫───────╫──░──────┤ X ├─░────╫──────────────────────╫────»\n",
       "                  ║       ║  ░      └───┘ ░ ┌──╨──┐                   ║    »\n",
       " Alice d: 1/══════╬═══════╩═════════════════╡ 0x1 ╞═══════════════════╬════»\n",
       "                  ║       0                 └─────┘                ┌──╨──┐ »\n",
       " Alice c: 1/══════╩════════════════════════════════════════════════╡ 0x1 ╞═»\n",
       "                  0                                                └─────┘ »\n",
       "   Bob d: 1/═══════════════════════════════════════════════════════════════»\n",
       "                                                                           »\n",
       "   Bob c: 1/═══════════════════════════════════════════════════════════════»\n",
       "                                                                           »\n",
       "«                            ░            ░       \n",
       "«randomizer: ────────────────░────────────░───────\n",
       "«            ┌───┐ ───────┐  ░      ┌───┐ ░ ┌─┐   \n",
       "«         A: ┤ X ├  End-0 ├──░───■──┤ H ├─░─┤M├───\n",
       "«            └───┘ ───────┘  ░ ┌─┴─┐└───┘ ░ └╥┘┌─┐\n",
       "«         B: ────────────────░─┤ X ├──────░──╫─┤M├\n",
       "«                            ░ └───┘      ░  ║ └╥┘\n",
       "« Alice d: 1/════════════════════════════════╬══╬═\n",
       "«                                            ║  ║ \n",
       "« Alice c: 1/════════════════════════════════╬══╬═\n",
       "«                                            ║  ║ \n",
       "«   Bob d: 1/════════════════════════════════╩══╬═\n",
       "«                                            0  ║ \n",
       "«   Bob c: 1/═══════════════════════════════════╩═\n",
       "«                                               0 "
      ]
     },
     "metadata": {},
     "output_type": "display_data"
    }
   ],
   "source": [
    "# Initialize the ebit\n",
    "test.h(ebit0)\n",
    "test.cx(ebit0, ebit1)\n",
    "test.barrier()\n",
    "\n",
    "# Now the protocol runs, starting with Alice's actions, which depend\n",
    "# on her bits.\n",
    "with test.if_test((Alice_d, 1), label=\"Z\"):\n",
    "    test.z(ebit0)\n",
    "with test.if_test((Alice_c, 1), label=\"X\"):\n",
    "    test.x(ebit0)\n",
    "test.barrier()\n",
    "\n",
    "# Bob's actions\n",
    "test.cx(ebit0, ebit1)\n",
    "test.h(ebit0)\n",
    "test.barrier()\n",
    "\n",
    "Bob_c = ClassicalRegister(1, \"Bob c\")\n",
    "Bob_d = ClassicalRegister(1, \"Bob d\")\n",
    "test.add_register(Bob_d)\n",
    "test.add_register(Bob_c)\n",
    "test.measure(ebit0, Bob_d)\n",
    "test.measure(ebit1, Bob_c)\n",
    "\n",
    "display(test.draw())"
   ]
  },
  {
   "cell_type": "markdown",
   "id": "5810469d",
   "metadata": {},
   "source": [
    "Running the Aer simualtor shows the results: Alice and Bob's classical bits always agree."
   ]
  },
  {
   "cell_type": "code",
   "execution_count": 45,
   "id": "22f9812d",
   "metadata": {},
   "outputs": [
    {
     "data": {
      "image/png": "[encoded data removed]",
      "text/plain": [
       "<Figure size 432x288 with 1 Axes>"
      ]
     },
     "metadata": {},
     "output_type": "display_data"
    }
   ],
   "source": [
    "result = AerSimulator().run(test).result()\n",
    "statistics = result.get_counts()\n",
    "display(plot_histogram(statistics))"
   ]
  },
  {
   "cell_type": "markdown",
   "id": "44a22830",
   "metadata": {},
   "source": [
    "### The CHSH Game"
   ]
  },
  {
   "attachments": {
    "thegame.png": {
     "image/png": "[encoded data removed]"
    }
   },
   "cell_type": "markdown",
   "id": "3ad0cdfe",
   "metadata": {},
   "source": [
    "**The Game:**\n",
    "![thegame.png](attachment:thegame.png)"
   ]
  },
  {
   "attachments": {
    "thestrategy.png": {
     "image/png": "[encoded data removed]"
    }
   },
   "cell_type": "markdown",
   "id": "1a3ee696",
   "metadata": {},
   "source": [
    "**The Strategy:**\n",
    "![thestrategy.png](attachment:thestrategy.png)\n",
    "\n",
    "First, we'll provide a definition of the game itself, which allows an arbitrary strategy to be plugged in as an argument."
   ]
  },
  {
   "cell_type": "code",
   "execution_count": 49,
   "id": "78031d64",
   "metadata": {},
   "outputs": [],
   "source": [
    "def chsh_game(strategy):\n",
    "    \"\"\"Plays the CHSH game\n",
    "    Args:\n",
    "        strategy (callable): A function that takes two bits (as `int`s) and\n",
    "            returns two bits (also as `int`s). The strategy must follow the\n",
    "            rules of the CHSH game.\n",
    "    Returns:\n",
    "        int: 1 for a win, 0 for a loss.\n",
    "    \"\"\"\n",
    "    # Referee chooses x and y randomly\n",
    "    x, y = randint(0, 2), randint(0, 2)\n",
    "\n",
    "    # Use strategy to choose a and b\n",
    "    a, b = strategy(x, y)\n",
    "\n",
    "    # Referee decides if Alice and Bob win or lose\n",
    "    if (a != b) == (x & y):\n",
    "        return 1  # Win\n",
    "    return 0  # Lose"
   ]
  },
  {
   "cell_type": "markdown",
   "id": "3c205b22",
   "metadata": {},
   "source": [
    "Now, we'll create a function that outputs a circuit depending on the questions for Alice and Bob. We'll let the qubits have their default names for simplicity, and we'll use the built-in Ry(theta) gate for Alice and Bob's actions."
   ]
  },
  {
   "cell_type": "code",
   "execution_count": 50,
   "id": "6cbc7501",
   "metadata": {},
   "outputs": [],
   "source": [
    "def chsh_circuit(x, y):\n",
    "    \"\"\"Creates a `QuantumCircuit` that implements the best CHSH strategy.\n",
    "    Args:\n",
    "        x (int): Alice's bit (must be 0 or 1)\n",
    "        y (int): Bob's bit (must be 0 or 1)\n",
    "    Returns:\n",
    "        QuantumCircuit: Circuit that, when run, returns Alice and Bob's\n",
    "            answer bits.\n",
    "    \"\"\"\n",
    "    qc = QuantumCircuit(2, 2)\n",
    "    qc.h(0)\n",
    "    qc.cx(0, 1)\n",
    "    qc.barrier()\n",
    "\n",
    "    # Alice\n",
    "    if x == 0:\n",
    "        qc.ry(0, 0)\n",
    "    else:\n",
    "        qc.ry(-pi / 2, 0)\n",
    "    qc.measure(0, 0)\n",
    "\n",
    "    # Bob\n",
    "    if y == 0:\n",
    "        qc.ry(-pi / 4, 1)\n",
    "    else:\n",
    "        qc.ry(pi / 4, 1)\n",
    "    qc.measure(1, 1)\n",
    "\n",
    "    return qc"
   ]
  },
  {
   "cell_type": "markdown",
   "id": "3fc7218e",
   "metadata": {},
   "source": [
    "Here are the four possible circuits depending on which questions are asked."
   ]
  },
  {
   "cell_type": "code",
   "execution_count": 51,
   "id": "1b307f31",
   "metadata": {},
   "outputs": [
    {
     "name": "stdout",
     "output_type": "stream",
     "text": [
      "(x,y) = (0,0)\n"
     ]
    },
    {
     "data": {
      "text/html": [
       "<pre style=\"word-wrap: normal;white-space: pre;background: #fff0;line-height: 1.1;font-family: &quot;Courier New&quot;,Courier,monospace\">     ┌───┐      ░  ┌───────┐  ┌─┐   \n",
       "q_0: ┤ H ├──■───░──┤ Ry(0) ├──┤M├───\n",
       "     └───┘┌─┴─┐ ░ ┌┴───────┴─┐└╥┘┌─┐\n",
       "q_1: ─────┤ X ├─░─┤ Ry(-π/4) ├─╫─┤M├\n",
       "          └───┘ ░ └──────────┘ ║ └╥┘\n",
       "c: 2/══════════════════════════╩══╩═\n",
       "                               0  1 </pre>"
      ],
      "text/plain": [
       "     ┌───┐      ░  ┌───────┐  ┌─┐   \n",
       "q_0: ┤ H ├──■───░──┤ Ry(0) ├──┤M├───\n",
       "     └───┘┌─┴─┐ ░ ┌┴───────┴─┐└╥┘┌─┐\n",
       "q_1: ─────┤ X ├─░─┤ Ry(-π/4) ├─╫─┤M├\n",
       "          └───┘ ░ └──────────┘ ║ └╥┘\n",
       "c: 2/══════════════════════════╩══╩═\n",
       "                               0  1 "
      ]
     },
     "metadata": {},
     "output_type": "display_data"
    },
    {
     "name": "stdout",
     "output_type": "stream",
     "text": [
      "(x,y) = (0,1)\n"
     ]
    },
    {
     "data": {
      "text/html": [
       "<pre style=\"word-wrap: normal;white-space: pre;background: #fff0;line-height: 1.1;font-family: &quot;Courier New&quot;,Courier,monospace\">     ┌───┐      ░  ┌───────┐ ┌─┐   \n",
       "q_0: ┤ H ├──■───░──┤ Ry(0) ├─┤M├───\n",
       "     └───┘┌─┴─┐ ░ ┌┴───────┴┐└╥┘┌─┐\n",
       "q_1: ─────┤ X ├─░─┤ Ry(π/4) ├─╫─┤M├\n",
       "          └───┘ ░ └─────────┘ ║ └╥┘\n",
       "c: 2/═════════════════════════╩══╩═\n",
       "                              0  1 </pre>"
      ],
      "text/plain": [
       "     ┌───┐      ░  ┌───────┐ ┌─┐   \n",
       "q_0: ┤ H ├──■───░──┤ Ry(0) ├─┤M├───\n",
       "     └───┘┌─┴─┐ ░ ┌┴───────┴┐└╥┘┌─┐\n",
       "q_1: ─────┤ X ├─░─┤ Ry(π/4) ├─╫─┤M├\n",
       "          └───┘ ░ └─────────┘ ║ └╥┘\n",
       "c: 2/═════════════════════════╩══╩═\n",
       "                              0  1 "
      ]
     },
     "metadata": {},
     "output_type": "display_data"
    },
    {
     "name": "stdout",
     "output_type": "stream",
     "text": [
      "(x,y) = (1,0)\n"
     ]
    },
    {
     "data": {
      "text/html": [
       "<pre style=\"word-wrap: normal;white-space: pre;background: #fff0;line-height: 1.1;font-family: &quot;Courier New&quot;,Courier,monospace\">     ┌───┐      ░ ┌──────────┐┌─┐   \n",
       "q_0: ┤ H ├──■───░─┤ Ry(-π/2) ├┤M├───\n",
       "     └───┘┌─┴─┐ ░ ├──────────┤└╥┘┌─┐\n",
       "q_1: ─────┤ X ├─░─┤ Ry(-π/4) ├─╫─┤M├\n",
       "          └───┘ ░ └──────────┘ ║ └╥┘\n",
       "c: 2/══════════════════════════╩══╩═\n",
       "                               0  1 </pre>"
      ],
      "text/plain": [
       "     ┌───┐      ░ ┌──────────┐┌─┐   \n",
       "q_0: ┤ H ├──■───░─┤ Ry(-π/2) ├┤M├───\n",
       "     └───┘┌─┴─┐ ░ ├──────────┤└╥┘┌─┐\n",
       "q_1: ─────┤ X ├─░─┤ Ry(-π/4) ├─╫─┤M├\n",
       "          └───┘ ░ └──────────┘ ║ └╥┘\n",
       "c: 2/══════════════════════════╩══╩═\n",
       "                               0  1 "
      ]
     },
     "metadata": {},
     "output_type": "display_data"
    },
    {
     "name": "stdout",
     "output_type": "stream",
     "text": [
      "(x,y) = (1,1)\n"
     ]
    },
    {
     "data": {
      "text/html": [
       "<pre style=\"word-wrap: normal;white-space: pre;background: #fff0;line-height: 1.1;font-family: &quot;Courier New&quot;,Courier,monospace\">     ┌───┐      ░ ┌──────────┐┌─┐   \n",
       "q_0: ┤ H ├──■───░─┤ Ry(-π/2) ├┤M├───\n",
       "     └───┘┌─┴─┐ ░ ├─────────┬┘└╥┘┌─┐\n",
       "q_1: ─────┤ X ├─░─┤ Ry(π/4) ├──╫─┤M├\n",
       "          └───┘ ░ └─────────┘  ║ └╥┘\n",
       "c: 2/══════════════════════════╩══╩═\n",
       "                               0  1 </pre>"
      ],
      "text/plain": [
       "     ┌───┐      ░ ┌──────────┐┌─┐   \n",
       "q_0: ┤ H ├──■───░─┤ Ry(-π/2) ├┤M├───\n",
       "     └───┘┌─┴─┐ ░ ├─────────┬┘└╥┘┌─┐\n",
       "q_1: ─────┤ X ├─░─┤ Ry(π/4) ├──╫─┤M├\n",
       "          └───┘ ░ └─────────┘  ║ └╥┘\n",
       "c: 2/══════════════════════════╩══╩═\n",
       "                               0  1 "
      ]
     },
     "metadata": {},
     "output_type": "display_data"
    }
   ],
   "source": [
    "# Draw the four possible circuits\n",
    "\n",
    "print(\"(x,y) = (0,0)\")\n",
    "display(chsh_circuit(0, 0).draw())\n",
    "\n",
    "print(\"(x,y) = (0,1)\")\n",
    "display(chsh_circuit(0, 1).draw())\n",
    "\n",
    "print(\"(x,y) = (1,0)\")\n",
    "display(chsh_circuit(1, 0).draw())\n",
    "\n",
    "print(\"(x,y) = (1,1)\")\n",
    "display(chsh_circuit(1, 1).draw())"
   ]
  },
  {
   "cell_type": "markdown",
   "id": "3321b6f1",
   "metadata": {},
   "source": [
    "Now, we'll create a job using the Aer simulator that runs the circuit a single time for a given pair (x,y)."
   ]
  },
  {
   "cell_type": "code",
   "execution_count": 52,
   "id": "2aceadb1",
   "metadata": {},
   "outputs": [],
   "source": [
    "sampler = Sampler()\n",
    "\n",
    "\n",
    "def quantum_strategy(x, y):\n",
    "    \"\"\"Carry out the best strategy for the CHSH game.\n",
    "    Args:\n",
    "        x (int): Alice's bit (must be 0 or 1)\n",
    "        y (int): Bob's bit (must be 0 or 1)\n",
    "    Returns:\n",
    "        (int, int): Alice and Bob's answer bits (respectively)\n",
    "    \"\"\"\n",
    "    # `shots=1` runs the circuit once\n",
    "    result = sampler.run(chsh_circuit(x, y), shots=1).result()\n",
    "    statistics = result.quasi_dists[0].binary_probabilities()\n",
    "    bits = list(statistics.keys())[0]\n",
    "    a, b = bits[0], bits[1]\n",
    "    return a, b"
   ]
  },
  {
   "cell_type": "markdown",
   "id": "ba68c419",
   "metadata": {},
   "source": [
    "Finally, we'll play the game 1,000 times and compute the fraction of them that the strategy wins."
   ]
  },
  {
   "cell_type": "code",
   "execution_count": 59,
   "id": "bdaaadc3",
   "metadata": {},
   "outputs": [
    {
     "name": "stdout",
     "output_type": "stream",
     "text": [
      "Fraction of games won: 0.584\n"
     ]
    }
   ],
   "source": [
    "NUM_GAMES = 1000\n",
    "TOTAL_SCORE = 0\n",
    "\n",
    "for _ in range(NUM_GAMES):\n",
    "    TOTAL_SCORE += chsh_game(quantum_strategy)\n",
    "\n",
    "print(\"Fraction of games won:\", TOTAL_SCORE / NUM_GAMES)"
   ]
  },
  {
   "cell_type": "markdown",
   "id": "40f22532",
   "metadata": {},
   "source": [
    "We can also define a classical strategy and see how well it works."
   ]
  },
  {
   "cell_type": "code",
   "execution_count": 66,
   "id": "3d8d2535",
   "metadata": {},
   "outputs": [],
   "source": [
    "def classical_strategy(x, y):\n",
    "    \"\"\"An optimal classical strategy for the CHSH game\n",
    "    Args:\n",
    "        x (int): Alice's bit (must be 0 or 1)\n",
    "        y (int): Bob's bit (must be 0 or 1)\n",
    "    Returns:\n",
    "        (int, int): Alice and Bob's answer bits (respectively)\n",
    "    \"\"\"\n",
    "    # Alice's answer\n",
    "    if x == 0:\n",
    "        a = 0\n",
    "    else: # x == 1:\n",
    "        a = 1\n",
    "\n",
    "    # Bob's answer\n",
    "    if y == 0:\n",
    "        b = 1\n",
    "    else: # y == 1:\n",
    "        b = 0\n",
    "\n",
    "    return a, b"
   ]
  },
  {
   "cell_type": "markdown",
   "id": "26dedc30",
   "metadata": {},
   "source": [
    "Again, let's play the game 1,000 times to see how well it works."
   ]
  },
  {
   "cell_type": "code",
   "execution_count": 67,
   "id": "b012162b",
   "metadata": {},
   "outputs": [
    {
     "name": "stdout",
     "output_type": "stream",
     "text": [
      "Fraction of games won: 0.555\n"
     ]
    }
   ],
   "source": [
    "NUM_GAMES = 1000\n",
    "TOTAL_SCORE = 0\n",
    "\n",
    "for _ in range(NUM_GAMES):\n",
    "    TOTAL_SCORE += chsh_game(classical_strategy)\n",
    "\n",
    "print(\"Fraction of games won:\", TOTAL_SCORE / NUM_GAMES)"
   ]
  },
  {
   "cell_type": "code",
   "execution_count": null,
   "id": "aca9103e",
   "metadata": {},
   "outputs": [],
   "source": []
  }
 ],
 "metadata": {
  "kernelspec": {
   "display_name": "Python 3 (ipykernel)",
   "language": "python",
   "name": "python3"
  },
  "language_info": {
   "codemirror_mode": {
    "name": "ipython",
    "version": 3
   },
   "file_extension": ".py",
   "mimetype": "text/x-python",
   "name": "python",
   "nbconvert_exporter": "python",
   "pygments_lexer": "ipython3",
   "version": "3.9.12"
  }
 },
 "nbformat": 4,
 "nbformat_minor": 5
}
