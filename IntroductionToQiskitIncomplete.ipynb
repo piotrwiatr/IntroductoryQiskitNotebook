{
 "cells": [
  {
   "cell_type": "markdown",
   "id": "db2e9706",
   "metadata": {},
   "source": [
    "# Introduction to Qiskit\n",
    "\n",
    "This Jupyter Notebook hopes to introduce basic Qiskit to supplement the lectures on quantum information that have been presented thus far.\n",
    "\n",
    "Before going through this notebook, it's necessary to install qiskit and all of its prerequisites\n",
    "\n",
    "- qiskit\n",
    "- qiskit[visualization]\n",
    "- qiskit-aer\n",
    "- numpy\n",
    "- matplotlib\n",
    "- pylatexenc\n",
    "\n",
    "Please run the next cell to import all of the necessary functions for this lesson:"
   ]
  },
  {
   "cell_type": "code",
   "execution_count": 54,
   "id": "f854605f",
   "metadata": {},
   "outputs": [],
   "source": [
    "from qiskit import QuantumCircuit, QuantumRegister, ClassicalRegister\n",
    "from qiskit_aer import AerSimulator\n",
    "from qiskit.visualization import plot_histogram\n",
    "from qiskit.result import marginal_distribution\n",
    "from qiskit.circuit.library import UGate\n",
    "from qiskit.primitives import Sampler\n",
    "from qiskit.quantum_info import Statevector, Operator\n",
    "from numpy import pi, random, array, matmul, sqrt\n",
    "from random import randint"
   ]
  },
  {
   "cell_type": "markdown",
   "id": "51183243",
   "metadata": {},
   "source": [
    "## Single Systems"
   ]
  },
  {
   "cell_type": "markdown",
   "id": "7f5f039f",
   "metadata": {},
   "source": [
    "### Vectors and Matrices in Python"
   ]
  },
  {
   "cell_type": "markdown",
   "id": "470bdc81",
   "metadata": {},
   "source": [
    "Since Qiskit uses the Python programming language, it is useful to discuss matrix and vector computations in Python. In Python, matrix and vector computations can be performed using the **array** class from the **NumPy** library.\n",
    "\n",
    "Here is an example of a code cell that defines two vectors **ket0** and **ket1** and displays their average."
   ]
  },
  {
   "cell_type": "code",
   "execution_count": null,
   "id": "7a0afeae",
   "metadata": {},
   "outputs": [],
   "source": []
  },
  {
   "cell_type": "markdown",
   "id": "792f9c4f",
   "metadata": {},
   "source": [
    "We can also use **array** to create matrices that represent operations"
   ]
  },
  {
   "cell_type": "code",
   "execution_count": null,
   "id": "0b13d4f5",
   "metadata": {},
   "outputs": [],
   "source": []
  },
  {
   "cell_type": "markdown",
   "id": "3e823236",
   "metadata": {},
   "source": [
    "Matrix multiplication can be performed using the **matmul** function from **NumPy**:"
   ]
  },
  {
   "cell_type": "code",
   "execution_count": null,
   "id": "248b4ee7",
   "metadata": {},
   "outputs": [],
   "source": []
  },
  {
   "cell_type": "markdown",
   "id": "661bee8a",
   "metadata": {},
   "source": [
    "### States, Measurements, and Operations\n",
    "\n",
    "Qiskit includes several classes that allow for states, measurements, and operations to be easily created and manipulated.\n",
    "\n",
    "**Defining and displaying state vectors**\n",
    "\n",
    "Qiskit's **Statevector** class provides functionality for defining and manipulating quantum state vectors (notice that complex numbers in Python take the form of a + b**j**):"
   ]
  },
  {
   "cell_type": "code",
   "execution_count": null,
   "id": "cda9d72b",
   "metadata": {},
   "outputs": [],
   "source": []
  },
  {
   "cell_type": "markdown",
   "id": "89abeb2f",
   "metadata": {},
   "source": [
    "The **Statevector** class provides a **draw** method for displaying state vectors, including **latex** and **text** options for different visualizations:"
   ]
  },
  {
   "cell_type": "code",
   "execution_count": null,
   "id": "f2c62f4e",
   "metadata": {},
   "outputs": [],
   "source": []
  },
  {
   "cell_type": "markdown",
   "id": "92ccf53a",
   "metadata": {},
   "source": [
    "The **Statevector** class also includes the **is_valid** method, which checks to see if a given vector is a valid quantum state vecotr (i.e., that it has Euclidean norm equal to 1):"
   ]
  },
  {
   "cell_type": "code",
   "execution_count": null,
   "id": "0c523cfa",
   "metadata": {},
   "outputs": [],
   "source": []
  },
  {
   "cell_type": "markdown",
   "id": "f8080154",
   "metadata": {},
   "source": [
    "**Simulating measurements using Statevector**\n",
    "\n",
    "Next we will see one way that measurements of quantum states can be simulated in Qiskit, using the **measure** method from the **Statevector** class.\n",
    "\n",
    "First, we create a qubit state vector v and then display it."
   ]
  },
  {
   "cell_type": "code",
   "execution_count": null,
   "id": "f82c304a",
   "metadata": {},
   "outputs": [],
   "source": []
  },
  {
   "cell_type": "markdown",
   "id": "9d9e70fc",
   "metadata": {},
   "source": [
    "Next, running the **measure** method simulates a standard basis measurement. It returns the result of that measurement, plus the new quantum state of our system after that measurement."
   ]
  },
  {
   "cell_type": "code",
   "execution_count": null,
   "id": "9c1b6bb5",
   "metadata": {},
   "outputs": [],
   "source": []
  },
  {
   "cell_type": "markdown",
   "id": "e4af79c9",
   "metadata": {},
   "source": [
    "Measurement outcomes are probabilistic, so the same method can return different results. Try running the cell a few times to see this.\n",
    "\n",
    "As an aside, **Statevector** will throw an error if the **measure** method is applied to an invalid quantum state vector.\n",
    "\n",
    "**Statevector** also comes with a **sample_counts** method that allows for the simulation of any number of measurements on the system. For example, the following cell shows the outcome of measuring the vector **v** 1000 times. The cell also demonstrates the **plot_histogram** function for visualizing the results."
   ]
  },
  {
   "cell_type": "code",
   "execution_count": null,
   "id": "37695683",
   "metadata": {},
   "outputs": [],
   "source": []
  },
  {
   "cell_type": "markdown",
   "id": "e7b24f36",
   "metadata": {},
   "source": [
    "**Performing operations with Operator and Statevector**\n",
    "\n",
    "Unitary operations can be defined and performed on state vectors in Qiskit using the **Operator** class, as in the example that follows:"
   ]
  },
  {
   "cell_type": "code",
   "execution_count": null,
   "id": "68e76e2d",
   "metadata": {},
   "outputs": [],
   "source": []
  },
  {
   "cell_type": "markdown",
   "id": "86707568",
   "metadata": {},
   "source": [
    "**Looking ahead toward quantum circuits**\n",
    "\n",
    "We won't talk about quantum circuits until later this lesson, but we can experiment with circuits that have only one qubit that consists of numerous unitary operations:"
   ]
  },
  {
   "cell_type": "code",
   "execution_count": null,
   "id": "7dfb1314",
   "metadata": {},
   "outputs": [],
   "source": []
  },
  {
   "cell_type": "markdown",
   "id": "07138731",
   "metadata": {},
   "source": [
    "The operations are applied sequentially, starting on the left and ending on right in the figure. Let us first initialize a starting quantum state vector and then evolve that state according to the sequence of operations."
   ]
  },
  {
   "cell_type": "code",
   "execution_count": null,
   "id": "e8428d30",
   "metadata": {},
   "outputs": [],
   "source": []
  },
  {
   "cell_type": "markdown",
   "id": "7d5ed026",
   "metadata": {},
   "source": [
    "Finally, let's simulate the result of running this experiment 4000 times:"
   ]
  },
  {
   "cell_type": "code",
   "execution_count": null,
   "id": "4e5322e6",
   "metadata": {},
   "outputs": [],
   "source": []
  },
  {
   "cell_type": "markdown",
   "id": "42cbc1f3",
   "metadata": {},
   "source": [
    "## Multiple Systems"
   ]
  },
  {
   "cell_type": "markdown",
   "id": "ec781aa6",
   "metadata": {},
   "source": [
    "### Tensor Products\n",
    "\n",
    "The **Statevector** class has a **tensor** method which returns the tensor product of itself and another **Statevector**.\n",
    "\n",
    "For example, below we create two state vectors representing ket 0 and ket 1, and use the **tensor** method to create a new vector (ket 0 tensor ket 1):"
   ]
  },
  {
   "cell_type": "code",
   "execution_count": null,
   "id": "aef4b9d0",
   "metadata": {},
   "outputs": [],
   "source": []
  },
  {
   "cell_type": "markdown",
   "id": "41edc96c",
   "metadata": {},
   "source": [
    "In another example below, we create state vectors representing the plus and i states, and combine them to create a enw state vector. We'll assign this new vector to the variable **psi**:"
   ]
  },
  {
   "cell_type": "code",
   "execution_count": null,
   "id": "3c394cd3",
   "metadata": {},
   "outputs": [],
   "source": []
  },
  {
   "cell_type": "markdown",
   "id": "aed77fa3",
   "metadata": {},
   "source": [
    "The **Operator** class also has a **tensor** method. In the example below, we create the **X** and **I** gates and display their tensor product."
   ]
  },
  {
   "cell_type": "code",
   "execution_count": null,
   "id": "b034838b",
   "metadata": {},
   "outputs": [],
   "source": []
  },
  {
   "cell_type": "markdown",
   "id": "651cca47",
   "metadata": {},
   "source": [
    "We can then treat these compound states and operations as we did single systems in the previous lesson (the **^** opreator tensors matrices together)."
   ]
  },
  {
   "cell_type": "code",
   "execution_count": null,
   "id": "5a8df493",
   "metadata": {},
   "outputs": [],
   "source": []
  },
  {
   "cell_type": "markdown",
   "id": "1cfa8495",
   "metadata": {},
   "source": [
    "Below, we create a **CX** operator and apply it to **psi**:"
   ]
  },
  {
   "cell_type": "code",
   "execution_count": null,
   "id": "318a9aea",
   "metadata": {},
   "outputs": [],
   "source": []
  },
  {
   "cell_type": "markdown",
   "id": "59744cf2",
   "metadata": {},
   "source": [
    "### Partial Measurements\n",
    "\n",
    "The **measure** method returns two items: the simulated measurement result, and the new Statevector given this measurement.\n",
    "\n",
    "By default, **measure** measures all qubits in the state vector, but we can provide a list of integers to only measure the qubits at those indices. To demonstrate, the cell creates a 3-qubit system.\n",
    "\n",
    "(Note that Qiskit is primarily designed for use with qubit-based quantum computers. As such, Statevector will try to interpret any vector with 2^n elements as a system of n qubits.)"
   ]
  },
  {
   "cell_type": "code",
   "execution_count": null,
   "id": "11845f62",
   "metadata": {},
   "outputs": [],
   "source": []
  },
  {
   "cell_type": "markdown",
   "id": "b8cd3d0a",
   "metadata": {},
   "source": [
    "The cell below simulates a measurement on the rightmost qubit (which has index 0). The other two qubits are not measured."
   ]
  },
  {
   "cell_type": "code",
   "execution_count": null,
   "id": "38608b95",
   "metadata": {},
   "outputs": [],
   "source": []
  },
  {
   "cell_type": "code",
   "execution_count": null,
   "id": "fb173c2a",
   "metadata": {},
   "outputs": [],
   "source": []
  },
  {
   "cell_type": "markdown",
   "id": "d75f7e63",
   "metadata": {},
   "source": [
    "## Quantum Circuits"
   ]
  },
  {
   "attachments": {
    "circuit.png": {
     "image/png": "[encoded data removed]"
    }
   },
   "cell_type": "markdown",
   "id": "decd8eac",
   "metadata": {},
   "source": [
    "![circuit.png](attachment:circuit.png)\n",
    "\n",
    "To begin, let's try recreating this circuit in qiskit. To start, we need to sequentially add gates from left to right."
   ]
  },
  {
   "cell_type": "code",
   "execution_count": null,
   "id": "01880059",
   "metadata": {},
   "outputs": [],
   "source": []
  },
  {
   "cell_type": "markdown",
   "id": "a961fad7",
   "metadata": {},
   "source": [
    "The default names for qubits in Qiskit are q0, q1, q2, etc., and when there is just a single qubit like in our example, the default name is q rather q0. If we wish to choose our own name we can do this using the **QuantumRegister** class like this:"
   ]
  },
  {
   "cell_type": "code",
   "execution_count": null,
   "id": "73543f99",
   "metadata": {},
   "outputs": [],
   "source": []
  },
  {
   "attachments": {
    "circuit2.png": {
     "image/png": "[encoded data removed]"
    }
   },
   "cell_type": "markdown",
   "id": "18be379c",
   "metadata": {},
   "source": [
    "![circuit2.png](attachment:circuit2.png)\n",
    "\n",
    "Let's try recreating this circuit using Qiskit:"
   ]
  },
  {
   "cell_type": "code",
   "execution_count": null,
   "id": "b0f7c6e2",
   "metadata": {},
   "outputs": [],
   "source": []
  },
  {
   "cell_type": "markdown",
   "id": "b8e4b6d8",
   "metadata": {},
   "source": [
    "The circuit can be simulated using the **Sampler** primitive."
   ]
  },
  {
   "cell_type": "code",
   "execution_count": null,
   "id": "6310a662",
   "metadata": {},
   "outputs": [],
   "source": []
  },
  {
   "cell_type": "markdown",
   "id": "a1f0703c",
   "metadata": {},
   "source": [
    "## Entanglement in Action"
   ]
  },
  {
   "cell_type": "markdown",
   "id": "17c6e736",
   "metadata": {},
   "source": [
    "### Quantum Teleportation"
   ]
  },
  {
   "attachments": {
    "circuit3.png": {
     "image/png": "[encoded data removed]"
    }
   },
   "cell_type": "markdown",
   "id": "d5585aa0",
   "metadata": {},
   "source": [
    "![circuit3.png](attachment:circuit3.png)\n",
    "\n",
    "Let's try implementing the teleportation protocol in Qiskit."
   ]
  },
  {
   "cell_type": "code",
   "execution_count": null,
   "id": "74c5ea26",
   "metadata": {},
   "outputs": [],
   "source": []
  },
  {
   "cell_type": "markdown",
   "id": "16253694",
   "metadata": {},
   "source": [
    "The **barrier** function creates a visual separation making the circuit diagram more readable, and it also prevents Qiskit from performing various simplifications and optimizations across barriers during compilation when circuits run on real hardware. The **if_test** function applies an opeartion conditionally depending on the classical bit or register.\n",
    "\n",
    "The circuit first initializes (A,B) to be in the phi plus state, followed by Alice's operations, then her measurements, and finally Bob's operations."
   ]
  },
  {
   "cell_type": "markdown",
   "id": "f9de2b3b",
   "metadata": {},
   "source": [
    "To test that the protocol works correctly, we'll apply a randomly generated single-qubit gate to the initialized ket 0 state of Q to obtain a random quanstum state vector to be teleported. By applying the inverse of that gate to B after the protocol is run, we can verify that the state was teleported by measuring to see that it has returned the ket 0 state.\n",
    "\n",
    "First, we'll randomly choose a unitary qubit gate:"
   ]
  },
  {
   "cell_type": "code",
   "execution_count": null,
   "id": "5efc4cba",
   "metadata": {},
   "outputs": [],
   "source": []
  },
  {
   "attachments": {
    "eq.png": {
     "image/png": "[encoded data removed]"
    }
   },
   "cell_type": "markdown",
   "id": "28162bf5",
   "metadata": {},
   "source": [
    "The UGate function creates a unitary matrix using theta, phi, and lambda as follows:\n",
    "![eq.png](attachment:eq.png)"
   ]
  },
  {
   "cell_type": "markdown",
   "id": "e8eae13c",
   "metadata": {},
   "source": [
    "Now, we'll create a new testing circuit that first applies our random gate to Q, then runs the teleportation circuit, and finally applies the inverse of our random gate to the qubit B and measures. The outcome should be 0 with certainty."
   ]
  },
  {
   "cell_type": "code",
   "execution_count": null,
   "id": "f209809d",
   "metadata": {},
   "outputs": [],
   "source": []
  },
  {
   "cell_type": "markdown",
   "id": "ebdba8ea",
   "metadata": {},
   "source": [
    "Finally let's run the Aer simulator on this circuit and plot a histogram of the outputs. We'll see the statistics for all three classical bits: the bottom/leftmost bit should always be 0,indicating that the qubit Q was successfully teleported into B, while the other two bits should be roughly uniform."
   ]
  },
  {
   "cell_type": "code",
   "execution_count": null,
   "id": "8dbef472",
   "metadata": {},
   "outputs": [],
   "source": []
  },
  {
   "cell_type": "markdown",
   "id": "e1bcf66f",
   "metadata": {},
   "source": [
    "We can also filter the statistics to focus just on the test result qubit if we wish, like this:"
   ]
  },
  {
   "cell_type": "code",
   "execution_count": null,
   "id": "e20bb726",
   "metadata": {},
   "outputs": [],
   "source": []
  },
  {
   "attachments": {
    "circuit4.png": {
     "image/png": "[encoded data removed]"
    }
   },
   "cell_type": "markdown",
   "id": "73686102",
   "metadata": {},
   "source": [
    "### Superdense Coding\n",
    "![circuit4.png](attachment:circuit4.png)\n",
    "\n",
    "To start implementing the Superdense coding protocol, let's first specify the bits to be transmitted."
   ]
  },
  {
   "cell_type": "code",
   "execution_count": null,
   "id": "fbc9bc33",
   "metadata": {},
   "outputs": [],
   "source": []
  },
  {
   "cell_type": "markdown",
   "id": "5cbb7221",
   "metadata": {},
   "source": [
    "Now, we'll build the circuit accordingly. Here we'll just allow Qiskit to use the default names for the qubits: q0 for the top qubit and q1 for the bottom one."
   ]
  },
  {
   "cell_type": "code",
   "execution_count": null,
   "id": "0d23dc5f",
   "metadata": {},
   "outputs": [],
   "source": []
  },
  {
   "cell_type": "markdown",
   "id": "046ebee2",
   "metadata": {},
   "source": [
    "The **measure_all** function measures all of the qubits and puts the results into a single classical register (that has 2 classical bits).\n",
    "\n",
    "Running the Aer simualator produces the expected output."
   ]
  },
  {
   "cell_type": "code",
   "execution_count": null,
   "id": "0002660c",
   "metadata": {},
   "outputs": [],
   "source": []
  },
  {
   "cell_type": "markdown",
   "id": "614a6cf3",
   "metadata": {},
   "source": [
    "Just for fun, we can use an additional qubit as a random bit generator to randomly chooes c and d, then run the superdense coding protocol to see that these bits are transmitted correctly."
   ]
  },
  {
   "cell_type": "code",
   "execution_count": null,
   "id": "bbf4c2c0",
   "metadata": {},
   "outputs": [],
   "source": []
  },
  {
   "cell_type": "code",
   "execution_count": null,
   "id": "b70eeef2",
   "metadata": {},
   "outputs": [],
   "source": [
    "# Initialize the ebit\n",
    "test.h(ebit0)\n",
    "test.cx(ebit0, ebit1)\n",
    "test.barrier()\n",
    "\n",
    "# Now the protocol runs, starting with Alice's actions, which depend\n",
    "# on her bits.\n",
    "with test.if_test((Alice_d, 1), label=\"Z\"):\n",
    "    test.z(ebit0)\n",
    "with test.if_test((Alice_c, 1), label=\"X\"):\n",
    "    test.x(ebit0)\n",
    "test.barrier()\n",
    "\n",
    "# Bob's actions\n",
    "test.cx(ebit0, ebit1)\n",
    "test.h(ebit0)\n",
    "test.barrier()\n",
    "\n",
    "Bob_c = ClassicalRegister(1, \"Bob c\")\n",
    "Bob_d = ClassicalRegister(1, \"Bob d\")\n",
    "test.add_register(Bob_d)\n",
    "test.add_register(Bob_c)\n",
    "test.measure(ebit0, Bob_d)\n",
    "test.measure(ebit1, Bob_c)\n",
    "\n",
    "display(test.draw())"
   ]
  },
  {
   "cell_type": "markdown",
   "id": "5810469d",
   "metadata": {},
   "source": [
    "Running the Aer simualtor shows the results: Alice and Bob's classical bits always agree."
   ]
  },
  {
   "cell_type": "code",
   "execution_count": null,
   "id": "22f9812d",
   "metadata": {},
   "outputs": [],
   "source": []
  },
  {
   "cell_type": "markdown",
   "id": "44a22830",
   "metadata": {},
   "source": [
    "### The CHSH Game"
   ]
  },
  {
   "attachments": {
    "thegame.png": {
     "image/png": "[encoded data removed]"
    }
   },
   "cell_type": "markdown",
   "id": "3ad0cdfe",
   "metadata": {},
   "source": [
    "**The Game:**\n",
    "![thegame.png](attachment:thegame.png)"
   ]
  },
  {
   "attachments": {
    "thestrategy.png": {
     "image/png": "[encoded data removed]"
    }
   },
   "cell_type": "markdown",
   "id": "1a3ee696",
   "metadata": {},
   "source": [
    "**The Strategy:**\n",
    "![thestrategy.png](attachment:thestrategy.png)\n",
    "\n",
    "First, we'll provide a definition of the game itself, which allows an arbitrary strategy to be plugged in as an argument."
   ]
  },
  {
   "cell_type": "code",
   "execution_count": 49,
   "id": "78031d64",
   "metadata": {},
   "outputs": [],
   "source": [
    "def chsh_game(strategy):\n",
    "    \"\"\"Plays the CHSH game\n",
    "    Args:\n",
    "        strategy (callable): A function that takes two bits (as `int`s) and\n",
    "            returns two bits (also as `int`s). The strategy must follow the\n",
    "            rules of the CHSH game.\n",
    "    Returns:\n",
    "        int: 1 for a win, 0 for a loss.\n",
    "    \"\"\"\n",
    "    # Referee chooses x and y randomly\n",
    "    x, y = randint(0, 2), randint(0, 2)\n",
    "\n",
    "    # Use strategy to choose a and b\n",
    "    a, b = strategy(x, y)\n",
    "\n",
    "    # Referee decides if Alice and Bob win or lose\n",
    "    if (a != b) == (x & y):\n",
    "        return 1  # Win\n",
    "    return 0  # Lose"
   ]
  },
  {
   "cell_type": "markdown",
   "id": "3c205b22",
   "metadata": {},
   "source": [
    "Now, we'll create a function that outputs a circuit depending on the questions for Alice and Bob. We'll let the qubits have their default names for simplicity, and we'll use the built-in Ry(theta) gate for Alice and Bob's actions."
   ]
  },
  {
   "cell_type": "code",
   "execution_count": null,
   "id": "6cbc7501",
   "metadata": {},
   "outputs": [],
   "source": []
  },
  {
   "cell_type": "markdown",
   "id": "3fc7218e",
   "metadata": {},
   "source": [
    "Here are the four possible circuits depending on which questions are asked."
   ]
  },
  {
   "cell_type": "code",
   "execution_count": 3,
   "id": "1b307f31",
   "metadata": {},
   "outputs": [],
   "source": [
    "# Draw the four possible circuits\n",
    "\n",
    "print(\"(x,y) = (0,0)\")\n",
    "display(chsh_circuit(0, 0).draw())\n",
    "\n",
    "print(\"(x,y) = (0,1)\")\n",
    "display(chsh_circuit(0, 1).draw())\n",
    "\n",
    "print(\"(x,y) = (1,0)\")\n",
    "display(chsh_circuit(1, 0).draw())\n",
    "\n",
    "print(\"(x,y) = (1,1)\")\n",
    "display(chsh_circuit(1, 1).draw())"
   ]
  },
  {
   "cell_type": "markdown",
   "id": "3321b6f1",
   "metadata": {},
   "source": [
    "Now, we'll create a job using the Aer simulator that runs the circuit a single time for a given pair (x,y)."
   ]
  },
  {
   "cell_type": "code",
   "execution_count": 52,
   "id": "2aceadb1",
   "metadata": {},
   "outputs": [],
   "source": [
    "sampler = Sampler()\n",
    "\n",
    "\n",
    "def quantum_strategy(x, y):\n",
    "    \"\"\"Carry out the best strategy for the CHSH game.\n",
    "    Args:\n",
    "        x (int): Alice's bit (must be 0 or 1)\n",
    "        y (int): Bob's bit (must be 0 or 1)\n",
    "    Returns:\n",
    "        (int, int): Alice and Bob's answer bits (respectively)\n",
    "    \"\"\"\n",
    "    "
   ]
  },
  {
   "cell_type": "markdown",
   "id": "ba68c419",
   "metadata": {},
   "source": [
    "Finally, we'll play the game 1,000 times and compute the fraction of them that the strategy wins."
   ]
  },
  {
   "cell_type": "code",
   "execution_count": 59,
   "id": "bdaaadc3",
   "metadata": {},
   "outputs": [
    {
     "name": "stdout",
     "output_type": "stream",
     "text": [
      "Fraction of games won: 0.584\n"
     ]
    }
   ],
   "source": [
    "NUM_GAMES = 1000\n",
    "TOTAL_SCORE = 0\n",
    "\n",
    "for _ in range(NUM_GAMES):\n",
    "    TOTAL_SCORE += chsh_game(quantum_strategy)\n",
    "\n",
    "print(\"Fraction of games won:\", TOTAL_SCORE / NUM_GAMES)"
   ]
  },
  {
   "cell_type": "markdown",
   "id": "40f22532",
   "metadata": {},
   "source": [
    "We can also define a classical strategy and see how well it works."
   ]
  },
  {
   "cell_type": "code",
   "execution_count": 66,
   "id": "3d8d2535",
   "metadata": {},
   "outputs": [],
   "source": [
    "def classical_strategy(x, y):\n",
    "    \"\"\"An optimal classical strategy for the CHSH game\n",
    "    Args:\n",
    "        x (int): Alice's bit (must be 0 or 1)\n",
    "        y (int): Bob's bit (must be 0 or 1)\n",
    "    Returns:\n",
    "        (int, int): Alice and Bob's answer bits (respectively)\n",
    "    \"\"\"\n",
    "    "
   ]
  },
  {
   "cell_type": "markdown",
   "id": "26dedc30",
   "metadata": {},
   "source": [
    "Again, let's play the game 1,000 times to see how well it works."
   ]
  },
  {
   "cell_type": "code",
   "execution_count": 67,
   "id": "b012162b",
   "metadata": {},
   "outputs": [
    {
     "name": "stdout",
     "output_type": "stream",
     "text": [
      "Fraction of games won: 0.555\n"
     ]
    }
   ],
   "source": [
    "NUM_GAMES = 1000\n",
    "TOTAL_SCORE = 0\n",
    "\n",
    "for _ in range(NUM_GAMES):\n",
    "    TOTAL_SCORE += chsh_game(classical_strategy)\n",
    "\n",
    "print(\"Fraction of games won:\", TOTAL_SCORE / NUM_GAMES)"
   ]
  },
  {
   "cell_type": "code",
   "execution_count": null,
   "id": "aca9103e",
   "metadata": {},
   "outputs": [],
   "source": []
  }
 ],
 "metadata": {
  "kernelspec": {
   "display_name": "Python 3 (ipykernel)",
   "language": "python",
   "name": "python3"
  },
  "language_info": {
   "codemirror_mode": {
    "name": "ipython",
    "version": 3
   },
   "file_extension": ".py",
   "mimetype": "text/x-python",
   "name": "python",
   "nbconvert_exporter": "python",
   "pygments_lexer": "ipython3",
   "version": "3.10.11"
  }
 },
 "nbformat": 4,
 "nbformat_minor": 5
}
